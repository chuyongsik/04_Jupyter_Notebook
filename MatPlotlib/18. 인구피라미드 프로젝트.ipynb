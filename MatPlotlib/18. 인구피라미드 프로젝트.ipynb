{
 "cells": [
  {
   "cell_type": "code",
   "execution_count": 63,
   "metadata": {},
   "outputs": [
    {
     "name": "stderr",
     "output_type": "stream",
     "text": [
      "d:\\00.Anaconda\\Lib\\site-packages\\openpyxl\\styles\\stylesheet.py:226: UserWarning: Workbook contains no default style, apply openpyxl's default\n",
      "  warn(\"Workbook contains no default style, apply openpyxl's default\")\n"
     ]
    },
    {
     "data": {
      "text/html": [
       "<div>\n",
       "<style scoped>\n",
       "    .dataframe tbody tr th:only-of-type {\n",
       "        vertical-align: middle;\n",
       "    }\n",
       "\n",
       "    .dataframe tbody tr th {\n",
       "        vertical-align: top;\n",
       "    }\n",
       "\n",
       "    .dataframe thead th {\n",
       "        text-align: right;\n",
       "    }\n",
       "</style>\n",
       "<table border=\"1\" class=\"dataframe\">\n",
       "  <thead>\n",
       "    <tr style=\"text-align: right;\">\n",
       "      <th></th>\n",
       "      <th>0~4세</th>\n",
       "      <th>5~9세</th>\n",
       "      <th>10~14세</th>\n",
       "      <th>15~19세</th>\n",
       "      <th>20~24세</th>\n",
       "      <th>25~29세</th>\n",
       "      <th>30~34세</th>\n",
       "      <th>35~39세</th>\n",
       "      <th>40~44세</th>\n",
       "      <th>45~49세</th>\n",
       "      <th>...</th>\n",
       "      <th>55~59세</th>\n",
       "      <th>60~64세</th>\n",
       "      <th>65~69세</th>\n",
       "      <th>70~74세</th>\n",
       "      <th>75~79세</th>\n",
       "      <th>80~84세</th>\n",
       "      <th>85~89세</th>\n",
       "      <th>90~94세</th>\n",
       "      <th>95~99세</th>\n",
       "      <th>100세 이상</th>\n",
       "    </tr>\n",
       "    <tr>\n",
       "      <th>행정기관</th>\n",
       "      <th></th>\n",
       "      <th></th>\n",
       "      <th></th>\n",
       "      <th></th>\n",
       "      <th></th>\n",
       "      <th></th>\n",
       "      <th></th>\n",
       "      <th></th>\n",
       "      <th></th>\n",
       "      <th></th>\n",
       "      <th></th>\n",
       "      <th></th>\n",
       "      <th></th>\n",
       "      <th></th>\n",
       "      <th></th>\n",
       "      <th></th>\n",
       "      <th></th>\n",
       "      <th></th>\n",
       "      <th></th>\n",
       "      <th></th>\n",
       "      <th></th>\n",
       "    </tr>\n",
       "  </thead>\n",
       "  <tbody>\n",
       "    <tr>\n",
       "      <th>전국</th>\n",
       "      <td>807,150</td>\n",
       "      <td>1,154,806</td>\n",
       "      <td>1,215,483</td>\n",
       "      <td>1,229,848</td>\n",
       "      <td>1,652,371</td>\n",
       "      <td>1,875,014</td>\n",
       "      <td>1,655,155</td>\n",
       "      <td>1,829,373</td>\n",
       "      <td>2,024,616</td>\n",
       "      <td>2,139,842</td>\n",
       "      <td>...</td>\n",
       "      <td>2,075,439</td>\n",
       "      <td>2,039,854</td>\n",
       "      <td>1,423,351</td>\n",
       "      <td>982,527</td>\n",
       "      <td>691,904</td>\n",
       "      <td>448,750</td>\n",
       "      <td>189,426</td>\n",
       "      <td>47,982</td>\n",
       "      <td>9,047</td>\n",
       "      <td>2,230</td>\n",
       "    </tr>\n",
       "    <tr>\n",
       "      <th>서울특별시</th>\n",
       "      <td>129,766</td>\n",
       "      <td>176,433</td>\n",
       "      <td>189,993</td>\n",
       "      <td>201,088</td>\n",
       "      <td>292,214</td>\n",
       "      <td>402,129</td>\n",
       "      <td>364,322</td>\n",
       "      <td>358,270</td>\n",
       "      <td>362,416</td>\n",
       "      <td>377,526</td>\n",
       "      <td>...</td>\n",
       "      <td>348,510</td>\n",
       "      <td>346,019</td>\n",
       "      <td>257,783</td>\n",
       "      <td>183,490</td>\n",
       "      <td>133,498</td>\n",
       "      <td>81,360</td>\n",
       "      <td>31,954</td>\n",
       "      <td>8,564</td>\n",
       "      <td>1,819</td>\n",
       "      <td>623</td>\n",
       "    </tr>\n",
       "    <tr>\n",
       "      <th>부산광역시</th>\n",
       "      <td>46,491</td>\n",
       "      <td>68,329</td>\n",
       "      <td>68,191</td>\n",
       "      <td>69,493</td>\n",
       "      <td>102,324</td>\n",
       "      <td>116,387</td>\n",
       "      <td>99,345</td>\n",
       "      <td>110,248</td>\n",
       "      <td>125,965</td>\n",
       "      <td>128,387</td>\n",
       "      <td>...</td>\n",
       "      <td>132,304</td>\n",
       "      <td>145,246</td>\n",
       "      <td>112,633</td>\n",
       "      <td>79,465</td>\n",
       "      <td>53,942</td>\n",
       "      <td>32,142</td>\n",
       "      <td>11,705</td>\n",
       "      <td>2,744</td>\n",
       "      <td>442</td>\n",
       "      <td>147</td>\n",
       "    </tr>\n",
       "  </tbody>\n",
       "</table>\n",
       "<p>3 rows × 21 columns</p>\n",
       "</div>"
      ],
      "text/plain": [
       "            0~4세       5~9세     10~14세     15~19세     20~24세     25~29세  \\\n",
       "행정기관                                                                      \n",
       "전국       807,150  1,154,806  1,215,483  1,229,848  1,652,371  1,875,014   \n",
       "서울특별시    129,766    176,433    189,993    201,088    292,214    402,129   \n",
       "부산광역시     46,491     68,329     68,191     69,493    102,324    116,387   \n",
       "\n",
       "            30~34세     35~39세     40~44세     45~49세  ...     55~59세  \\\n",
       "행정기관                                                 ...              \n",
       "전국       1,655,155  1,829,373  2,024,616  2,139,842  ...  2,075,439   \n",
       "서울특별시      364,322    358,270    362,416    377,526  ...    348,510   \n",
       "부산광역시       99,345    110,248    125,965    128,387  ...    132,304   \n",
       "\n",
       "            60~64세     65~69세   70~74세   75~79세   80~84세   85~89세  90~94세  \\\n",
       "행정기관                                                                        \n",
       "전국       2,039,854  1,423,351  982,527  691,904  448,750  189,426  47,982   \n",
       "서울특별시      346,019    257,783  183,490  133,498   81,360   31,954   8,564   \n",
       "부산광역시      145,246    112,633   79,465   53,942   32,142   11,705   2,744   \n",
       "\n",
       "        95~99세 100세 이상  \n",
       "행정기관                    \n",
       "전국       9,047   2,230  \n",
       "서울특별시    1,819     623  \n",
       "부산광역시      442     147  \n",
       "\n",
       "[3 rows x 21 columns]"
      ]
     },
     "execution_count": 63,
     "metadata": {},
     "output_type": "execute_result"
    }
   ],
   "source": [
    "# 1. 인구 피라미드\n",
    "\n",
    "import pandas as pd\n",
    "\n",
    "df_m = pd.read_excel('202108_202108_연령별인구현황_월간.xlsx', skiprows=3, index_col='행정기관', usecols='B,E:Y')\n",
    "df_m.head(3)"
   ]
  },
  {
   "cell_type": "markdown",
   "metadata": {},
   "source": [
    "## 남자 데이터 정의"
   ]
  },
  {
   "cell_type": "code",
   "execution_count": 64,
   "metadata": {},
   "outputs": [],
   "source": [
    "df_m.iloc[0]=df_m.iloc[0].str.replace(',','').astype(int)"
   ]
  },
  {
   "cell_type": "code",
   "execution_count": 65,
   "metadata": {},
   "outputs": [
    {
     "data": {
      "text/plain": [
       "0~4세        807150\n",
       "5~9세       1154806\n",
       "10~14세     1215483\n",
       "15~19세     1229848\n",
       "20~24세     1652371\n",
       "25~29세     1875014\n",
       "30~34세     1655155\n",
       "35~39세     1829373\n",
       "40~44세     2024616\n",
       "45~49세     2139842\n",
       "50~54세     2271863\n",
       "55~59세     2075439\n",
       "60~64세     2039854\n",
       "65~69세     1423351\n",
       "70~74세      982527\n",
       "75~79세      691904\n",
       "80~84세      448750\n",
       "85~89세      189426\n",
       "90~94세       47982\n",
       "95~99세        9047\n",
       "100세 이상       2230\n",
       "Name: 전국  , dtype: object"
      ]
     },
     "execution_count": 65,
     "metadata": {},
     "output_type": "execute_result"
    }
   ],
   "source": [
    "df_m.iloc[0]"
   ]
  },
  {
   "cell_type": "markdown",
   "metadata": {},
   "source": [
    "## 여자 데이터 정의"
   ]
  },
  {
   "cell_type": "code",
   "execution_count": 66,
   "metadata": {},
   "outputs": [
    {
     "name": "stderr",
     "output_type": "stream",
     "text": [
      "d:\\00.Anaconda\\Lib\\site-packages\\openpyxl\\styles\\stylesheet.py:226: UserWarning: Workbook contains no default style, apply openpyxl's default\n",
      "  warn(\"Workbook contains no default style, apply openpyxl's default\")\n"
     ]
    },
    {
     "data": {
      "text/html": [
       "<div>\n",
       "<style scoped>\n",
       "    .dataframe tbody tr th:only-of-type {\n",
       "        vertical-align: middle;\n",
       "    }\n",
       "\n",
       "    .dataframe tbody tr th {\n",
       "        vertical-align: top;\n",
       "    }\n",
       "\n",
       "    .dataframe thead th {\n",
       "        text-align: right;\n",
       "    }\n",
       "</style>\n",
       "<table border=\"1\" class=\"dataframe\">\n",
       "  <thead>\n",
       "    <tr style=\"text-align: right;\">\n",
       "      <th></th>\n",
       "      <th>0~4세.1</th>\n",
       "      <th>5~9세.1</th>\n",
       "      <th>10~14세.1</th>\n",
       "      <th>15~19세.1</th>\n",
       "      <th>20~24세.1</th>\n",
       "      <th>25~29세.1</th>\n",
       "      <th>30~34세.1</th>\n",
       "      <th>35~39세.1</th>\n",
       "      <th>40~44세.1</th>\n",
       "      <th>45~49세.1</th>\n",
       "      <th>...</th>\n",
       "      <th>55~59세.1</th>\n",
       "      <th>60~64세.1</th>\n",
       "      <th>65~69세.1</th>\n",
       "      <th>70~74세.1</th>\n",
       "      <th>75~79세.1</th>\n",
       "      <th>80~84세.1</th>\n",
       "      <th>85~89세.1</th>\n",
       "      <th>90~94세.1</th>\n",
       "      <th>95~99세.1</th>\n",
       "      <th>100세 이상.1</th>\n",
       "    </tr>\n",
       "    <tr>\n",
       "      <th>행정기관</th>\n",
       "      <th></th>\n",
       "      <th></th>\n",
       "      <th></th>\n",
       "      <th></th>\n",
       "      <th></th>\n",
       "      <th></th>\n",
       "      <th></th>\n",
       "      <th></th>\n",
       "      <th></th>\n",
       "      <th></th>\n",
       "      <th></th>\n",
       "      <th></th>\n",
       "      <th></th>\n",
       "      <th></th>\n",
       "      <th></th>\n",
       "      <th></th>\n",
       "      <th></th>\n",
       "      <th></th>\n",
       "      <th></th>\n",
       "      <th></th>\n",
       "      <th></th>\n",
       "    </tr>\n",
       "  </thead>\n",
       "  <tbody>\n",
       "    <tr>\n",
       "      <th>전국</th>\n",
       "      <td>765,718</td>\n",
       "      <td>1,099,511</td>\n",
       "      <td>1,146,252</td>\n",
       "      <td>1,142,146</td>\n",
       "      <td>1,521,873</td>\n",
       "      <td>1,672,118</td>\n",
       "      <td>1,523,976</td>\n",
       "      <td>1,744,685</td>\n",
       "      <td>1,954,674</td>\n",
       "      <td>2,073,661</td>\n",
       "      <td>...</td>\n",
       "      <td>2,020,720</td>\n",
       "      <td>2,084,814</td>\n",
       "      <td>1,523,981</td>\n",
       "      <td>1,119,798</td>\n",
       "      <td>908,817</td>\n",
       "      <td>731,836</td>\n",
       "      <td>429,062</td>\n",
       "      <td>163,137</td>\n",
       "      <td>37,655</td>\n",
       "      <td>8,705</td>\n",
       "    </tr>\n",
       "  </tbody>\n",
       "</table>\n",
       "<p>1 rows × 21 columns</p>\n",
       "</div>"
      ],
      "text/plain": [
       "       0~4세.1     5~9세.1   10~14세.1   15~19세.1   20~24세.1   25~29세.1  \\\n",
       "행정기관                                                                   \n",
       "전국    765,718  1,099,511  1,146,252  1,142,146  1,521,873  1,672,118   \n",
       "\n",
       "       30~34세.1   35~39세.1   40~44세.1   45~49세.1  ...   55~59세.1   60~64세.1  \\\n",
       "행정기관                                              ...                         \n",
       "전국    1,523,976  1,744,685  1,954,674  2,073,661  ...  2,020,720  2,084,814   \n",
       "\n",
       "       65~69세.1   70~74세.1 75~79세.1 80~84세.1 85~89세.1 90~94세.1 95~99세.1  \\\n",
       "행정기관                                                                      \n",
       "전국    1,523,981  1,119,798  908,817  731,836  429,062  163,137   37,655   \n",
       "\n",
       "     100세 이상.1  \n",
       "행정기관            \n",
       "전국       8,705  \n",
       "\n",
       "[1 rows x 21 columns]"
      ]
     },
     "execution_count": 66,
     "metadata": {},
     "output_type": "execute_result"
    }
   ],
   "source": [
    "df_w = pd.read_excel('202108_202108_연령별인구현황_월간.xlsx', skiprows=3, index_col='행정기관', usecols='B,AB:AV')\n",
    "df_w.head(1)"
   ]
  },
  {
   "cell_type": "code",
   "execution_count": 67,
   "metadata": {},
   "outputs": [],
   "source": [
    "df_w.iloc[0]=df_w.iloc[0].str.replace(',','').astype(int)"
   ]
  },
  {
   "cell_type": "code",
   "execution_count": 68,
   "metadata": {},
   "outputs": [
    {
     "data": {
      "text/plain": [
       "0~4세.1        765718\n",
       "5~9세.1       1099511\n",
       "10~14세.1     1146252\n",
       "15~19세.1     1142146\n",
       "20~24세.1     1521873\n",
       "25~29세.1     1672118\n",
       "30~34세.1     1523976\n",
       "35~39세.1     1744685\n",
       "40~44세.1     1954674\n",
       "45~49세.1     2073661\n",
       "50~54세.1     2230546\n",
       "55~59세.1     2020720\n",
       "60~64세.1     2084814\n",
       "65~69세.1     1523981\n",
       "70~74세.1     1119798\n",
       "75~79세.1      908817\n",
       "80~84세.1      731836\n",
       "85~89세.1      429062\n",
       "90~94세.1      163137\n",
       "95~99세.1       37655\n",
       "100세 이상.1       8705\n",
       "Name: 전국  , dtype: object"
      ]
     },
     "execution_count": 68,
     "metadata": {},
     "output_type": "execute_result"
    }
   ],
   "source": [
    "df_w.iloc[0]"
   ]
  },
  {
   "cell_type": "code",
   "execution_count": 69,
   "metadata": {},
   "outputs": [
    {
     "data": {
      "text/plain": [
       "Index(['0~4세.1', '5~9세.1', '10~14세.1', '15~19세.1', '20~24세.1', '25~29세.1',\n",
       "       '30~34세.1', '35~39세.1', '40~44세.1', '45~49세.1', '50~54세.1', '55~59세.1',\n",
       "       '60~64세.1', '65~69세.1', '70~74세.1', '75~79세.1', '80~84세.1', '85~89세.1',\n",
       "       '90~94세.1', '95~99세.1', '100세 이상.1'],\n",
       "      dtype='object')"
      ]
     },
     "execution_count": 69,
     "metadata": {},
     "output_type": "execute_result"
    }
   ],
   "source": [
    "df_w.columns"
   ]
  },
  {
   "cell_type": "code",
   "execution_count": 70,
   "metadata": {},
   "outputs": [
    {
     "data": {
      "text/plain": [
       "Index(['0~4세', '5~9세', '10~14세', '15~19세', '20~24세', '25~29세', '30~34세',\n",
       "       '35~39세', '40~44세', '45~49세', '50~54세', '55~59세', '60~64세', '65~69세',\n",
       "       '70~74세', '75~79세', '80~84세', '85~89세', '90~94세', '95~99세', '100세 이상'],\n",
       "      dtype='object')"
      ]
     },
     "execution_count": 70,
     "metadata": {},
     "output_type": "execute_result"
    }
   ],
   "source": [
    "df_w.columns = df_w.columns.str[:-2]\n",
    "df_w.columns"
   ]
  },
  {
   "cell_type": "markdown",
   "metadata": {},
   "source": [
    "## 데이터 시각화"
   ]
  },
  {
   "cell_type": "code",
   "execution_count": 71,
   "metadata": {},
   "outputs": [],
   "source": [
    "import matplotlib.pyplot as plt\n",
    "import matplotlib\n",
    "matplotlib.rcParams['font.family']='MalGun Gothic'\n",
    "matplotlib.rcParams['font.size'] = 15 # 글자크기\n",
    "matplotlib.rcParams['axes.unicode_minus']=False # 한글 폰트 사용 시, 마이너스 글자가 깨지는 현상을 해결"
   ]
  },
  {
   "cell_type": "code",
   "execution_count": 72,
   "metadata": {},
   "outputs": [
    {
     "data": {
      "image/png": "[encoded data removed]",
      "text/plain": [
       "<Figure size 1500x1200 with 1 Axes>"
      ]
     },
     "metadata": {},
     "output_type": "display_data"
    }
   ],
   "source": [
    "plt.figure(figsize=(15,12))\n",
    "plt.barh(df_m.columns, -df_m.iloc[0]//1000, label='남성')\n",
    "plt.barh(df_w.columns, df_w.iloc[0]//1000, label='여성')\n",
    "plt.title('서울시 인구 피라미드')\n",
    "\n",
    "plt.savefig('서울시 인구 피라미드.png', dpi=200)\n",
    "plt.show()"
   ]
  }
 ],
 "metadata": {
  "kernelspec": {
   "display_name": "base",
   "language": "python",
   "name": "python3"
  },
  "language_info": {
   "codemirror_mode": {
    "name": "ipython",
    "version": 3
   },
   "file_extension": ".py",
   "mimetype": "text/x-python",
   "name": "python",
   "nbconvert_exporter": "python",
   "pygments_lexer": "ipython3",
   "version": "3.11.4"
  }
 },
 "nbformat": 4,
 "nbformat_minor": 2
}
